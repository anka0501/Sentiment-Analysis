{
 "cells": [
  {
   "cell_type": "code",
   "execution_count": 1,
   "metadata": {},
   "outputs": [
    {
     "name": "stderr",
     "output_type": "stream",
     "text": [
      "c:\\Users\\annag\\anaconda3\\envs\\sentiment\\Lib\\site-packages\\tqdm\\auto.py:21: TqdmWarning: IProgress not found. Please update jupyter and ipywidgets. See https://ipywidgets.readthedocs.io/en/stable/user_install.html\n",
      "  from .autonotebook import tqdm as notebook_tqdm\n",
      "[nltk_data] Downloading package punkt_tab to\n",
      "[nltk_data]     C:\\Users\\annag\\AppData\\Roaming\\nltk_data...\n",
      "[nltk_data]   Package punkt_tab is already up-to-date!\n"
     ]
    }
   ],
   "source": [
    "import kagglehub\n",
    "import os\n",
    "import re\n",
    "import string \n",
    "import contractions\n",
    "import numpy as np\n",
    "import pandas as pd\n",
    "import nltk \n",
    "import warnings\n",
    "import torch\n",
    "import torch.nn as nn\n",
    "import torch.optim as optim\n",
    "import torchmetrics as tm\n",
    "import pytorch_lightning as pl\n",
    "from matplotlib import pyplot as plt\n",
    "from stop_words import get_stop_words\n",
    "from nltk.tokenize import word_tokenize\n",
    "from torch.utils.data import DataLoader, TensorDataset\n",
    "from sklearn.model_selection import train_test_split\n",
    "from sklearn.preprocessing import LabelEncoder\n",
    "from tensorflow.keras.preprocessing.text import Tokenizer\n",
    "from tensorflow.keras.preprocessing.sequence import pad_sequences\n",
    "from pytorch_lightning import Trainer\n",
    "from pytorch_lightning.loggers import TensorBoardLogger\n",
    "from pytorch_lightning.core.module import LightningModule\n",
    "from pytorch_lightning.callbacks import EarlyStopping \n",
    "from sklearn.metrics import confusion_matrix, ConfusionMatrixDisplay\n",
    "\n",
    "nltk.download('punkt_tab')\n",
    "warnings.filterwarnings(\"ignore\")\n",
    "stop_words = get_stop_words('en')\n",
    "\n",
    "device = torch.device(\"cuda\" if torch.cuda.is_available() else \"cpu\")"
   ]
  },
  {
   "cell_type": "markdown",
   "metadata": {},
   "source": [
    "# EDA"
   ]
  },
  {
   "cell_type": "markdown",
   "metadata": {},
   "source": [
    "In this part of the analysis, I will conduct a initial data analysis. This section will include a study of the distribution of the target variable, calculation of the number of missing data, clean comments by removing punctuation marks, links, and stopwords. At the end of this part I will tokenize text."
   ]
  },
  {
   "cell_type": "code",
   "execution_count": 2,
   "metadata": {},
   "outputs": [
    {
     "name": "stdout",
     "output_type": "stream",
     "text": [
      "Warning: Looks like you're using an outdated `kagglehub` version (installed: 0.3.5), please consider upgrading to the latest version (0.3.6).\n"
     ]
    },
    {
     "data": {
      "text/html": [
       "<div>\n",
       "<style scoped>\n",
       "    .dataframe tbody tr th:only-of-type {\n",
       "        vertical-align: middle;\n",
       "    }\n",
       "\n",
       "    .dataframe tbody tr th {\n",
       "        vertical-align: top;\n",
       "    }\n",
       "\n",
       "    .dataframe thead th {\n",
       "        text-align: right;\n",
       "    }\n",
       "</style>\n",
       "<table border=\"1\" class=\"dataframe\">\n",
       "  <thead>\n",
       "    <tr style=\"text-align: right;\">\n",
       "      <th></th>\n",
       "      <th>id</th>\n",
       "      <th>entity</th>\n",
       "      <th>sentiment</th>\n",
       "      <th>tweet</th>\n",
       "    </tr>\n",
       "  </thead>\n",
       "  <tbody>\n",
       "    <tr>\n",
       "      <th>0</th>\n",
       "      <td>2401</td>\n",
       "      <td>Borderlands</td>\n",
       "      <td>Positive</td>\n",
       "      <td>I am coming to the borders and I will kill you...</td>\n",
       "    </tr>\n",
       "    <tr>\n",
       "      <th>1</th>\n",
       "      <td>2401</td>\n",
       "      <td>Borderlands</td>\n",
       "      <td>Positive</td>\n",
       "      <td>im getting on borderlands and i will kill you ...</td>\n",
       "    </tr>\n",
       "    <tr>\n",
       "      <th>2</th>\n",
       "      <td>2401</td>\n",
       "      <td>Borderlands</td>\n",
       "      <td>Positive</td>\n",
       "      <td>im coming on borderlands and i will murder you...</td>\n",
       "    </tr>\n",
       "    <tr>\n",
       "      <th>3</th>\n",
       "      <td>2401</td>\n",
       "      <td>Borderlands</td>\n",
       "      <td>Positive</td>\n",
       "      <td>im getting on borderlands 2 and i will murder ...</td>\n",
       "    </tr>\n",
       "    <tr>\n",
       "      <th>4</th>\n",
       "      <td>2401</td>\n",
       "      <td>Borderlands</td>\n",
       "      <td>Positive</td>\n",
       "      <td>im getting into borderlands and i can murder y...</td>\n",
       "    </tr>\n",
       "  </tbody>\n",
       "</table>\n",
       "</div>"
      ],
      "text/plain": [
       "     id       entity sentiment  \\\n",
       "0  2401  Borderlands  Positive   \n",
       "1  2401  Borderlands  Positive   \n",
       "2  2401  Borderlands  Positive   \n",
       "3  2401  Borderlands  Positive   \n",
       "4  2401  Borderlands  Positive   \n",
       "\n",
       "                                               tweet  \n",
       "0  I am coming to the borders and I will kill you...  \n",
       "1  im getting on borderlands and i will kill you ...  \n",
       "2  im coming on borderlands and i will murder you...  \n",
       "3  im getting on borderlands 2 and i will murder ...  \n",
       "4  im getting into borderlands and i can murder y...  "
      ]
     },
     "execution_count": 2,
     "metadata": {},
     "output_type": "execute_result"
    }
   ],
   "source": [
    "path = kagglehub.dataset_download(\"jp797498e/twitter-entity-sentiment-analysis\")\n",
    "\n",
    "train = pd.read_csv(path + '\\\\twitter_training.csv')\n",
    "valid = pd.read_csv(path + '\\\\twitter_validation.csv')\n",
    "\n",
    "train.columns = ['id', 'entity', 'sentiment', 'tweet']\n",
    "valid.columns = ['id', 'entity', 'sentiment', 'tweet']\n",
    "\n",
    "train.head()"
   ]
  },
  {
   "cell_type": "code",
   "execution_count": 3,
   "metadata": {},
   "outputs": [
    {
     "data": {
      "text/plain": [
       "id             0\n",
       "entity         0\n",
       "sentiment      0\n",
       "tweet        686\n",
       "dtype: int64"
      ]
     },
     "execution_count": 3,
     "metadata": {},
     "output_type": "execute_result"
    }
   ],
   "source": [
    "# check number of nulls in each column\n",
    "train[['id', 'entity', 'sentiment', 'tweet']].isnull().sum()"
   ]
  },
  {
   "cell_type": "code",
   "execution_count": 4,
   "metadata": {},
   "outputs": [
    {
     "data": {
      "text/plain": [
       "id           0\n",
       "entity       0\n",
       "sentiment    0\n",
       "tweet        0\n",
       "dtype: int64"
      ]
     },
     "execution_count": 4,
     "metadata": {},
     "output_type": "execute_result"
    }
   ],
   "source": [
    "valid[['id', 'entity', 'sentiment', 'tweet']].isnull().sum()"
   ]
  },
  {
   "cell_type": "code",
   "execution_count": 5,
   "metadata": {},
   "outputs": [],
   "source": [
    "train.dropna(subset=['tweet'], inplace=True)"
   ]
  },
  {
   "cell_type": "code",
   "execution_count": 6,
   "metadata": {},
   "outputs": [],
   "source": [
    "def draw_plot(df, name):\n",
    "    \"\"\"\n",
    "    Print distribution plot of sentiment\n",
    "    \"\"\"\n",
    "    plt.figure(figsize=(8, 6))\n",
    "    colors = ['red', 'green', 'blue', 'orange']\n",
    "    df['sentiment'].value_counts().plot(kind='bar', color=colors)\n",
    "\n",
    "    plt.title(f'Distribution of sentiment ({name} set)')\n",
    "    plt.ylabel('Count')\n",
    "    plt.xlabel('Sentiment')\n",
    "    plt.show()"
   ]
  },
  {
   "cell_type": "code",
   "execution_count": 7,
   "metadata": {},
   "outputs": [
    {
     "data": {
      "image/png": "[encoded data removed]",
      "text/plain": [
       "<Figure size 800x600 with 1 Axes>"
      ]
     },
     "metadata": {},
     "output_type": "display_data"
    },
    {
     "data": {
      "image/png": "[encoded data removed]",
      "text/plain": [
       "<Figure size 800x600 with 1 Axes>"
      ]
     },
     "metadata": {},
     "output_type": "display_data"
    }
   ],
   "source": [
    "draw_plot(train, 'train')\n",
    "draw_plot(valid, 'val')"
   ]
  },
  {
   "cell_type": "code",
   "execution_count": 8,
   "metadata": {},
   "outputs": [],
   "source": [
    "def clean_text(text):\n",
    "    \"\"\"\n",
    "    Clean input text by lowercasing and removing punctuation\n",
    "    \"\"\"\n",
    "    # lower case\n",
    "    text = text.lower() \n",
    "    # remove links\n",
    "    text = re.compile(r\"https?://\\S+|www\\.\\S+\").sub(\"\", text)\n",
    "    # remove punctuations\n",
    "    table = str.maketrans('','',string.punctuation)\n",
    "    text = text.translate(table)\n",
    "    # remove unique char\n",
    "    text = re.sub(r'(?:^| )\\w(?:$| )', ' ',text).strip()\n",
    "    # contractions\n",
    "    text = \" \".join([contractions.fix(word) for word in text.split()])\n",
    "\n",
    "    replacements = {\n",
    "        r\"'s\\b\": \"\",\n",
    "        r\"\\s+\": \" \",\n",
    "    }\n",
    "\n",
    "    for replace, by in replacements.items():\n",
    "        text = re.sub(replace, by, text)\n",
    "\n",
    "    return text.strip()"
   ]
  },
  {
   "cell_type": "code",
   "execution_count": 9,
   "metadata": {},
   "outputs": [],
   "source": [
    "train['tweet_clean'] = train['tweet'].apply(lambda x: clean_text(x))\n",
    "valid['tweet_clean'] = valid['tweet'].apply(lambda x: clean_text(x))"
   ]
  },
  {
   "cell_type": "code",
   "execution_count": 10,
   "metadata": {},
   "outputs": [],
   "source": [
    "def remove_stopwords(text):\n",
    "    \"\"\"\n",
    "    Tokenize text and remove stopwords.\n",
    "    \"\"\"\n",
    "    text = text.apply(word_tokenize)\n",
    "    text = text.apply(lambda x: [word for word in x if word not in stop_words])\n",
    "    return text"
   ]
  },
  {
   "cell_type": "code",
   "execution_count": 11,
   "metadata": {},
   "outputs": [],
   "source": [
    "train['tweet_no_stopwords'] = remove_stopwords(train['tweet_clean'])\n",
    "train['tweet_no_stopwords'] = train['tweet_no_stopwords'].apply(lambda x: ' '.join(eval(str(x))))\n",
    "valid['tweet_no_stopwords'] = remove_stopwords(valid['tweet_clean'])\n",
    "valid['tweet_no_stopwords'] = valid['tweet_no_stopwords'].apply(lambda x: ' '.join(eval(str(x))))"
   ]
  },
  {
   "cell_type": "markdown",
   "metadata": {},
   "source": [
    "# Modelling"
   ]
  },
  {
   "cell_type": "markdown",
   "metadata": {},
   "source": [
    "In this part of the analysis, I will prepare the data structure for the GRU neural network model. Then, using the PyTorch Lightning package, I will train the model and calculate basic statistics. Finally, I will make predictions with the model and visualize the prediction results using a confusion matrix."
   ]
  },
  {
   "cell_type": "code",
   "execution_count": 12,
   "metadata": {},
   "outputs": [],
   "source": [
    "val, test = train_test_split(valid, test_size=0.33, random_state=42)\n",
    "\n",
    "X_train = train['tweet_no_stopwords']\n",
    "y_train = train['sentiment']\n",
    "\n",
    "X_val = val['tweet_no_stopwords']\n",
    "y_val = val['sentiment']\n",
    "\n",
    "X_test = test['tweet_no_stopwords']\n",
    "y_test = test['sentiment']"
   ]
  },
  {
   "cell_type": "markdown",
   "metadata": {},
   "source": [
    "The DataStructure class is designed to preprocess textual data for deep learning model based on PyTorch. Its primary function is to transform raw text data into a format suitable for neural networks, which involves:\n",
    "\n",
    "* init: Initializes the class object, storing essential information such as input data (X), labels (y), data type (train/test), and parameters related to data processing.\n",
    "* encode_data: Encodes text labels using LabelEncoder, assigning a unique integer to each label.\n",
    "* get_tokenizer: Creates a Tokenizer object, which is used to split text into tokens and assign indices to them.\n",
    "* tokenize_data: Tokenizes the input data, creating sequences of integers representing individual words, and then pads these sequences to a fixed length.\n",
    "* tensor_data: Converts tokenized data and encoded labels into PyTorch tensors, creates a TensorDataset object, and wraps it in a DataLoader for convenient access during model training."
   ]
  },
  {
   "cell_type": "code",
   "execution_count": 13,
   "metadata": {},
   "outputs": [],
   "source": [
    "# create class for special structure of data\n",
    "class DataStructure:\n",
    "    def __init__(self,X,y,typedt,y_train=y_train,X_train=X_train,shuffle=True):\n",
    "        self.X = X\n",
    "        self.y_train = y_train\n",
    "        self.y = y\n",
    "        self.typedt = typedt\n",
    "        self.X_train = X_train\n",
    "        self.shuffle = shuffle\n",
    "\n",
    "    def encode_data(self):\n",
    "        label_encoder = LabelEncoder()\n",
    "        y_train = label_encoder.fit_transform(self.y_train)\n",
    "        y = label_encoder.transform(self.y)\n",
    "        if self.typedt == 'train':\n",
    "            return y_train\n",
    "        elif self.typedt == 'val' or self.typedt == 'test':\n",
    "            return y\n",
    "    \n",
    "    def get_tokenizer(self):\n",
    "        tokenizer = Tokenizer(num_words=10000, oov_token='<OOV>')\n",
    "        tokenizer.fit_on_texts(self.X_train)\n",
    "        return tokenizer\n",
    "    \n",
    "    def tokenize_data(self):\n",
    "        X_seq = self.get_tokenizer().texts_to_sequences(self.X)\n",
    "        X_pad = pad_sequences(X_seq, maxlen=50, padding='post')\n",
    "        return X_pad\n",
    "    \n",
    "    def tensor_data(self):\n",
    "        dataset = TensorDataset(torch.tensor(self.tokenize_data(), dtype=torch.long), torch.tensor(self.encode_data(), dtype=torch.long))\n",
    "        dataloader = DataLoader(dataset, batch_size=64, shuffle=self.shuffle)\n",
    "        return dataloader"
   ]
  },
  {
   "cell_type": "code",
   "execution_count": 14,
   "metadata": {},
   "outputs": [],
   "source": [
    "structure = DataStructure(X_train,y_train,'train',shuffle=True)\n",
    "dataloader_train = structure.tensor_data()\n",
    "structure_val = DataStructure(X_val,y_val,'val',shuffle=False)\n",
    "dataloader_val = structure_val.tensor_data()\n",
    "structure_test = DataStructure(X_test,y_test,'test',shuffle=False)\n",
    "dataloader_test = structure_test.tensor_data()"
   ]
  },
  {
   "cell_type": "markdown",
   "metadata": {},
   "source": [
    "A Gated Recurrent Unit (GRU) is a type of recurrent neural network. Recurrence means the network \"remembers\" information from \n",
    "previous processing steps. In the context of text processing, this implies that a GRU considers not only individual words but \n",
    "also the broader context in which they appear.\n",
    "\n",
    "How does the GRUModel class work?\n",
    "\n",
    "  1) Word Embedding:\n",
    "    Initially, each word in our text is represented as a numerical vector. This process is called embedding. The self.embedding layer handles this transformation, converting words from their textual form into a numerical representation that the neural network can understand.\n",
    "\n",
    "   2) Sequence Processing by GRU:\n",
    "    Subsequently, the sequence of word vectors is fed into the self.gru layer.\n",
    "    The GRU is the core component of this network. At each processing step, the GRU receives:\n",
    "   * The current word vector: Representing the word being processed at that moment.\n",
    "   * The hidden state: This captures information from all previously processed words, acting as a form of \"memory\" for the network. Based on this input, the GRU calculates:\n",
    "   - A new hidden state: This updated state encapsulates the information from the entire sequence processed so far. The GRU selectively \"remembers\" important information and \"forgets\" less relevant details.\n",
    "   - An output: While the GRU can produce an output at each step, in this specific model, we only utilize the final output.\n",
    "\n",
    "3) Information Extraction:\n",
    "    After processing the entire sequence of words, the GRU produces a final hidden state. This state contains the most crucial information extracted from the entire text.\n",
    "\n",
    "4) Generating the Output:\n",
    "The final hidden state is then passed through additional layers:\n",
    "* nn.GELU(): This layer introduces non-linearity into the processing, enabling the network to learn more complex relationships.\n",
    "* nn.Linear(): This layer acts as a classifier. It transforms the hidden state into an output vector, where the dimensions correspond to the number of classes we want to predict."
   ]
  },
  {
   "cell_type": "code",
   "execution_count": 15,
   "metadata": {},
   "outputs": [],
   "source": [
    "class GRUModel(torch.nn.Module):\n",
    "    def __init__(self, hidden_dim, output_dim, vocab_size, embedding_dim):\n",
    "        super(GRUModel, self).__init__()\n",
    "        self.embedding = nn.Embedding(vocab_size, embedding_dim)\n",
    "        self.gru = nn.GRU(embedding_dim, hidden_dim, num_layers = 1, bidirectional = False, bias = True, batch_first=True)  \n",
    "        self.layers = nn.Sequential(\n",
    "                        nn.GELU(),\n",
    "                        nn.Linear(hidden_dim, output_dim))\n",
    "        \n",
    "    def forward(self, x):\n",
    "        embedded = self.embedding(x)\n",
    "        out, _ = self.gru(embedded) # return tuple not tensor\n",
    "        out = self.layers(out[:, -1, :])\n",
    "        return out"
   ]
  },
  {
   "cell_type": "code",
   "execution_count": 16,
   "metadata": {},
   "outputs": [
    {
     "data": {
      "text/plain": [
       "GRUModel(\n",
       "  (embedding): Embedding(10000, 64)\n",
       "  (gru): GRU(64, 128, batch_first=True)\n",
       "  (layers): Sequential(\n",
       "    (0): GELU(approximate='none')\n",
       "    (1): Linear(in_features=128, out_features=4, bias=True)\n",
       "  )\n",
       ")"
      ]
     },
     "execution_count": 16,
     "metadata": {},
     "output_type": "execute_result"
    }
   ],
   "source": [
    "vocab_size = 10000\n",
    "embedding_dim = 64\n",
    "hidden_dim = 128\n",
    "output_dim = 4\n",
    "\n",
    "model_gru = GRUModel(hidden_dim=hidden_dim, output_dim=output_dim, vocab_size=vocab_size, embedding_dim=embedding_dim)\n",
    "model_gru.to(device)"
   ]
  },
  {
   "cell_type": "markdown",
   "metadata": {},
   "source": [
    "The TrainModel class inherits from LightningModule and utilizes methods such as training_step, validation_step, and test_step to define the individual stages of the training process.\n",
    "This class consist of:\n",
    "1) Initialization (__init__)\n",
    "* Stores the underlying model (self.model).\n",
    "* Defines loss function (self.criterion as CrossEntropyLoss).\n",
    "* Initializes metrics for training and validation (accuracy, recall, precision, F1-score).\n",
    "* Creates a list to store test predictions (self.test_preds).\n",
    "\n",
    "2) Forward Pass (forward)\n",
    "* Simply passes the input data through the underlying model (self.model).\n",
    "\n",
    "3) Training Step (training_step)\n",
    "* Calculates the loss.\n",
    "* Updates training metrics (accuracy, recall, precision, F1-score).\n",
    "* Logs the training loss and metrics.\n",
    "* Returns the calculated loss.\n",
    "\n",
    "4) Validation Step (validation_step)\n",
    "* Calculates the validation loss.\n",
    "* Updates validation metrics (accuracy, recall, precision, F1-score).\n",
    "* Logs the validation loss and metrics.\n",
    "\n",
    "5) Test Step (test_step)\n",
    "* Predicts the labels for the test data.\n",
    "* Stores the predicted labels in self.test_preds.\n",
    "\n",
    "6) Get Test Predictions (get_test_preds)\n",
    "* Returns a concatenated tensor of all test predictions.\n",
    "\n",
    "7) Configure Optimizers (configure_optimizers)\n",
    "* Defines the optimizer (Adam) with a learning rate of 1e-3."
   ]
  },
  {
   "cell_type": "code",
   "execution_count": 17,
   "metadata": {},
   "outputs": [],
   "source": [
    "class TrainModel(pl.LightningModule):\n",
    "  def __init__(self, model): \n",
    "    super(TrainModel,self).__init__()\n",
    "    self.model = model\n",
    "    self.criterion = nn.CrossEntropyLoss()\n",
    "    self.train_acc = tm.Accuracy(task='multiclass', num_classes=4)\n",
    "    self.val_acc = tm.Accuracy(task='multiclass', num_classes=4)\n",
    "    self.train_recall = tm.Recall(task='multiclass', num_classes=4)\n",
    "    self.val_recall = tm.Recall(task='multiclass', num_classes=4)\n",
    "    self.train_precision = tm.Precision(task='multiclass', num_classes=4)\n",
    "    self.val_precision = tm.Precision(task='multiclass', num_classes=4)\n",
    "    self.train_f1 = tm.F1Score(task='multiclass', num_classes=4)\n",
    "    self.val_f1 = tm.F1Score(task='multiclass', num_classes=4)\n",
    "   \n",
    "    self.test_preds = []\n",
    "\n",
    "  def forward(self, x):\n",
    "        return self.model(x) \n",
    "  \n",
    "  def training_step(self, batch, batch_idx):\n",
    "        inputs, labels = batch\n",
    "        outputs = self.forward(inputs)\n",
    "        loss = self.criterion(outputs, labels)\n",
    "\n",
    "        self.train_acc(torch.argmax(outputs, dim=1), labels)\n",
    "        self.train_recall(torch.argmax(outputs, dim=1), labels)\n",
    "        self.train_precision(torch.argmax(outputs, dim=1), labels)\n",
    "        self.train_f1(torch.argmax(outputs, dim=1), labels)\n",
    "\n",
    "        self.log('train_loss', loss.item(), prog_bar=True, logger=True)\n",
    "        self.log('train_acc', self.train_acc, prog_bar=True, logger=True)\n",
    "        self.log('train_recall', self.train_recall, prog_bar=True, logger=True)\n",
    "        self.log('train_precision', self.train_precision, prog_bar=True, logger=True)\n",
    "        self.log('train_f1', self.train_f1, prog_bar=True, logger=True)\n",
    "        \n",
    "        return loss\n",
    "\n",
    "  def validation_step(self, batch, batch_idx):\n",
    "        inputs, labels = batch\n",
    "        outputs = self.forward(inputs)\n",
    "        loss = self.criterion(outputs, labels)\n",
    "\n",
    "        self.val_acc(torch.argmax(outputs, dim=1), labels)\n",
    "        self.val_recall(torch.argmax(outputs, dim=1), labels)\n",
    "        self.val_precision(torch.argmax(outputs, dim=1), labels)\n",
    "        self.val_f1(torch.argmax(outputs, dim=1), labels)\n",
    "        \n",
    "        self.log('val_loss', loss.item(), prog_bar=True, logger=True)\n",
    "        self.log('val_acc', self.val_acc, prog_bar=True, logger=True)\n",
    "        self.log('val_recall', self.val_recall, prog_bar=True, logger=True)\n",
    "        self.log('val_precision', self.val_precision, prog_bar=True, logger=True)\n",
    "        self.log('val_f1', self.val_f1, prog_bar=True, logger=True)\n",
    "\n",
    "  def test_step(self, batch, batch_idx):\n",
    "        inputs, labels = batch\n",
    "        outputs = self.forward(inputs)\n",
    "        pred_labels = torch.argmax(outputs, dim=1)\n",
    "        self.test_preds.append(pred_labels)\n",
    "        \n",
    "  def get_test_preds(self):\n",
    "        return torch.concat(self.test_preds) \n",
    "\n",
    "  def configure_optimizers(self):\n",
    "        optimizer = torch.optim.Adam(self.model.parameters(), lr=1e-3)\n",
    "        return optimizer"
   ]
  },
  {
   "cell_type": "code",
   "execution_count": 18,
   "metadata": {},
   "outputs": [
    {
     "name": "stderr",
     "output_type": "stream",
     "text": [
      "GPU available: False, used: False\n",
      "TPU available: False, using: 0 TPU cores\n",
      "HPU available: False, using: 0 HPUs\n",
      "\n",
      "  | Name            | Type                | Params | Mode \n",
      "----------------------------------------------------------------\n",
      "0 | model           | GRUModel            | 715 K  | train\n",
      "1 | criterion       | CrossEntropyLoss    | 0      | train\n",
      "2 | train_acc       | MulticlassAccuracy  | 0      | train\n",
      "3 | val_acc         | MulticlassAccuracy  | 0      | train\n",
      "4 | train_recall    | MulticlassRecall    | 0      | train\n",
      "5 | val_recall      | MulticlassRecall    | 0      | train\n",
      "6 | train_precision | MulticlassPrecision | 0      | train\n",
      "7 | val_precision   | MulticlassPrecision | 0      | train\n",
      "8 | train_f1        | MulticlassF1Score   | 0      | train\n",
      "9 | val_f1          | MulticlassF1Score   | 0      | train\n",
      "----------------------------------------------------------------\n",
      "715 K     Trainable params\n",
      "0         Non-trainable params\n",
      "715 K     Total params\n",
      "2.860     Total estimated model params size (MB)\n",
      "15        Modules in train mode\n",
      "0         Modules in eval mode\n"
     ]
    },
    {
     "name": "stdout",
     "output_type": "stream",
     "text": [
      "Epoch 19: 100%|██████████| 1157/1157 [01:15<00:00, 15.35it/s, v_num=36, train_loss=0.168, train_acc=0.909, train_recall=0.909, train_precision=0.909, train_f1=0.909]   "
     ]
    },
    {
     "name": "stderr",
     "output_type": "stream",
     "text": [
      "`Trainer.fit` stopped: `max_epochs=20` reached.\n"
     ]
    },
    {
     "name": "stdout",
     "output_type": "stream",
     "text": [
      "Epoch 19: 100%|██████████| 1157/1157 [01:15<00:00, 15.35it/s, v_num=36, train_loss=0.168, train_acc=0.909, train_recall=0.909, train_precision=0.909, train_f1=0.909]\n",
      "Validation DataLoader 0: 100%|██████████| 11/11 [00:00<00:00, 64.87it/s]\n"
     ]
    },
    {
     "data": {
      "text/html": [
       "<pre style=\"white-space:pre;overflow-x:auto;line-height:normal;font-family:Menlo,'DejaVu Sans Mono',consolas,'Courier New',monospace\">┏━━━━━━━━━━━━━━━━━━━━━━━━━━━┳━━━━━━━━━━━━━━━━━━━━━━━━━━━┓\n",
       "┃<span style=\"font-weight: bold\">      Validate metric      </span>┃<span style=\"font-weight: bold\">       DataLoader 0        </span>┃\n",
       "┡━━━━━━━━━━━━━━━━━━━━━━━━━━━╇━━━━━━━━━━━━━━━━━━━━━━━━━━━┩\n",
       "│<span style=\"color: #008080; text-decoration-color: #008080\">          val_acc          </span>│<span style=\"color: #800080; text-decoration-color: #800080\">    0.9402092695236206     </span>│\n",
       "│<span style=\"color: #008080; text-decoration-color: #008080\">          val_f1           </span>│<span style=\"color: #800080; text-decoration-color: #800080\">    0.9402092695236206     </span>│\n",
       "│<span style=\"color: #008080; text-decoration-color: #008080\">         val_loss          </span>│<span style=\"color: #800080; text-decoration-color: #800080\">    0.3362070322036743     </span>│\n",
       "│<span style=\"color: #008080; text-decoration-color: #008080\">       val_precision       </span>│<span style=\"color: #800080; text-decoration-color: #800080\">    0.9402092695236206     </span>│\n",
       "│<span style=\"color: #008080; text-decoration-color: #008080\">        val_recall         </span>│<span style=\"color: #800080; text-decoration-color: #800080\">    0.9402092695236206     </span>│\n",
       "└───────────────────────────┴───────────────────────────┘\n",
       "</pre>\n"
      ],
      "text/plain": [
       "┏━━━━━━━━━━━━━━━━━━━━━━━━━━━┳━━━━━━━━━━━━━━━━━━━━━━━━━━━┓\n",
       "┃\u001b[1m \u001b[0m\u001b[1m     Validate metric     \u001b[0m\u001b[1m \u001b[0m┃\u001b[1m \u001b[0m\u001b[1m      DataLoader 0       \u001b[0m\u001b[1m \u001b[0m┃\n",
       "┡━━━━━━━━━━━━━━━━━━━━━━━━━━━╇━━━━━━━━━━━━━━━━━━━━━━━━━━━┩\n",
       "│\u001b[36m \u001b[0m\u001b[36m         val_acc         \u001b[0m\u001b[36m \u001b[0m│\u001b[35m \u001b[0m\u001b[35m   0.9402092695236206    \u001b[0m\u001b[35m \u001b[0m│\n",
       "│\u001b[36m \u001b[0m\u001b[36m         val_f1          \u001b[0m\u001b[36m \u001b[0m│\u001b[35m \u001b[0m\u001b[35m   0.9402092695236206    \u001b[0m\u001b[35m \u001b[0m│\n",
       "│\u001b[36m \u001b[0m\u001b[36m        val_loss         \u001b[0m\u001b[36m \u001b[0m│\u001b[35m \u001b[0m\u001b[35m   0.3362070322036743    \u001b[0m\u001b[35m \u001b[0m│\n",
       "│\u001b[36m \u001b[0m\u001b[36m      val_precision      \u001b[0m\u001b[36m \u001b[0m│\u001b[35m \u001b[0m\u001b[35m   0.9402092695236206    \u001b[0m\u001b[35m \u001b[0m│\n",
       "│\u001b[36m \u001b[0m\u001b[36m       val_recall        \u001b[0m\u001b[36m \u001b[0m│\u001b[35m \u001b[0m\u001b[35m   0.9402092695236206    \u001b[0m\u001b[35m \u001b[0m│\n",
       "└───────────────────────────┴───────────────────────────┘\n"
      ]
     },
     "metadata": {},
     "output_type": "display_data"
    },
    {
     "data": {
      "text/plain": [
       "[{'val_loss': 0.3362070322036743,\n",
       "  'val_acc': 0.9402092695236206,\n",
       "  'val_recall': 0.9402092695236206,\n",
       "  'val_precision': 0.9402092695236206,\n",
       "  'val_f1': 0.9402092695236206}]"
      ]
     },
     "execution_count": 18,
     "metadata": {},
     "output_type": "execute_result"
    }
   ],
   "source": [
    "np.Inf = np.inf\n",
    "early_stop_callback = EarlyStopping(\n",
    "    monitor = \"val_loss\", \n",
    "    min_delta = 0.00, \n",
    "    patience = 10, \n",
    "    verbose = False, \n",
    "    mode = \"min\",\n",
    ")\n",
    "\n",
    "logger = TensorBoardLogger(\"lightning_logs\", name=\"sentiment\")\n",
    "\n",
    "model = TrainModel(model_gru) \n",
    "trainer = pl.Trainer(max_epochs = 20, accelerator = 'cpu',\n",
    "                     logger=logger,\n",
    "                     callbacks = [early_stop_callback], \n",
    "                     val_check_interval = len(dataloader_train)) \n",
    "trainer.fit(model = model, train_dataloaders = dataloader_train)\n",
    "trainer.validate(model, dataloaders = dataloader_val)"
   ]
  },
  {
   "cell_type": "code",
   "execution_count": 19,
   "metadata": {},
   "outputs": [
    {
     "name": "stdout",
     "output_type": "stream",
     "text": [
      "Testing DataLoader 0: 100%|██████████| 6/6 [00:00<00:00, 55.50it/s]\n"
     ]
    },
    {
     "data": {
      "text/plain": [
       "[{}]"
      ]
     },
     "execution_count": 19,
     "metadata": {},
     "output_type": "execute_result"
    }
   ],
   "source": [
    "trainer.test(model, dataloaders = dataloader_test)"
   ]
  },
  {
   "cell_type": "code",
   "execution_count": 20,
   "metadata": {},
   "outputs": [
    {
     "data": {
      "text/html": [
       "<div>\n",
       "<style scoped>\n",
       "    .dataframe tbody tr th:only-of-type {\n",
       "        vertical-align: middle;\n",
       "    }\n",
       "\n",
       "    .dataframe tbody tr th {\n",
       "        vertical-align: top;\n",
       "    }\n",
       "\n",
       "    .dataframe thead th {\n",
       "        text-align: right;\n",
       "    }\n",
       "</style>\n",
       "<table border=\"1\" class=\"dataframe\">\n",
       "  <thead>\n",
       "    <tr style=\"text-align: right;\">\n",
       "      <th></th>\n",
       "      <th>Id</th>\n",
       "      <th>Label</th>\n",
       "      <th>Label_encode</th>\n",
       "      <th>Predicted</th>\n",
       "    </tr>\n",
       "  </thead>\n",
       "  <tbody>\n",
       "    <tr>\n",
       "      <th>453</th>\n",
       "      <td>1</td>\n",
       "      <td>Neutral</td>\n",
       "      <td>2</td>\n",
       "      <td>3</td>\n",
       "    </tr>\n",
       "    <tr>\n",
       "      <th>793</th>\n",
       "      <td>2</td>\n",
       "      <td>Neutral</td>\n",
       "      <td>2</td>\n",
       "      <td>2</td>\n",
       "    </tr>\n",
       "    <tr>\n",
       "      <th>209</th>\n",
       "      <td>3</td>\n",
       "      <td>Neutral</td>\n",
       "      <td>2</td>\n",
       "      <td>2</td>\n",
       "    </tr>\n",
       "    <tr>\n",
       "      <th>309</th>\n",
       "      <td>4</td>\n",
       "      <td>Negative</td>\n",
       "      <td>1</td>\n",
       "      <td>1</td>\n",
       "    </tr>\n",
       "    <tr>\n",
       "      <th>740</th>\n",
       "      <td>5</td>\n",
       "      <td>Negative</td>\n",
       "      <td>1</td>\n",
       "      <td>1</td>\n",
       "    </tr>\n",
       "  </tbody>\n",
       "</table>\n",
       "</div>"
      ],
      "text/plain": [
       "     Id     Label  Label_encode  Predicted\n",
       "453   1   Neutral             2          3\n",
       "793   2   Neutral             2          2\n",
       "209   3   Neutral             2          2\n",
       "309   4  Negative             1          1\n",
       "740   5  Negative             1          1"
      ]
     },
     "execution_count": 20,
     "metadata": {},
     "output_type": "execute_result"
    }
   ],
   "source": [
    "y_true_test = structure_test.encode_data()\n",
    "test_preds = model.get_test_preds().detach().cpu().numpy()\n",
    "pred_test = pd.DataFrame({'Id': list(range(1,len(test)+1)),\n",
    "                         'Label': y_test,  \n",
    "                         'Label_encode': y_true_test,\n",
    "                         'Predicted': test_preds})\n",
    "pred_test.head()"
   ]
  },
  {
   "cell_type": "code",
   "execution_count": 21,
   "metadata": {},
   "outputs": [
    {
     "data": {
      "image/png": "[encoded data removed]",
      "text/plain": [
       "<Figure size 640x480 with 2 Axes>"
      ]
     },
     "metadata": {},
     "output_type": "display_data"
    }
   ],
   "source": [
    "cm = confusion_matrix(y_true_test, test_preds)\n",
    "disp = ConfusionMatrixDisplay(confusion_matrix=cm, display_labels = y_test.unique())\n",
    "disp.plot(cmap=plt.cm.Blues)\n",
    "plt.title('Confusion matrix')\n",
    "plt.show()"
   ]
  }
 ],
 "metadata": {
  "kernelspec": {
   "display_name": "sentiment",
   "language": "python",
   "name": "python3"
  },
  "language_info": {
   "codemirror_mode": {
    "name": "ipython",
    "version": 3
   },
   "file_extension": ".py",
   "mimetype": "text/x-python",
   "name": "python",
   "nbconvert_exporter": "python",
   "pygments_lexer": "ipython3",
   "version": "3.11.11"
  }
 },
 "nbformat": 4,
 "nbformat_minor": 2
}
