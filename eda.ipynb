{
 "cells": [
  {
   "cell_type": "code",
   "execution_count": 1,
   "metadata": {},
   "outputs": [
    {
     "name": "stderr",
     "output_type": "stream",
     "text": [
      "c:\\Users\\annag\\anaconda3\\envs\\sentiment\\Lib\\site-packages\\tqdm\\auto.py:21: TqdmWarning: IProgress not found. Please update jupyter and ipywidgets. See https://ipywidgets.readthedocs.io/en/stable/user_install.html\n",
      "  from .autonotebook import tqdm as notebook_tqdm\n",
      "[nltk_data] Downloading package punkt_tab to\n",
      "[nltk_data]     C:\\Users\\annag\\AppData\\Roaming\\nltk_data...\n",
      "[nltk_data]   Package punkt_tab is already up-to-date!\n"
     ]
    }
   ],
   "source": [
    "import kagglehub\n",
    "import os\n",
    "import re\n",
    "import string \n",
    "import contractions\n",
    "import numpy as np\n",
    "import pandas as pd\n",
    "import nltk \n",
    "import warnings\n",
    "import torch\n",
    "import torch.nn as nn\n",
    "import torch.optim as optim\n",
    "import torchmetrics as tm\n",
    "import pytorch_lightning as pl\n",
    "# import matplotlib.pyplot as plt\n",
    "from matplotlib import pyplot as plt\n",
    "from stop_words import get_stop_words\n",
    "from nltk.tokenize import word_tokenize\n",
    "from torch.utils.data import DataLoader, TensorDataset\n",
    "from sklearn.model_selection import train_test_split\n",
    "from sklearn.preprocessing import LabelEncoder\n",
    "from tensorflow.keras.preprocessing.text import Tokenizer\n",
    "from tensorflow.keras.preprocessing.sequence import pad_sequences\n",
    "from pytorch_lightning import Trainer\n",
    "from pytorch_lightning.loggers import TensorBoardLogger\n",
    "# from pytorch_lightning.core.lightning import LightningModule\n",
    "from pytorch_lightning.core.module import LightningModule\n",
    "from pytorch_lightning.callbacks import EarlyStopping #ModelCheckpoint \n",
    "from sklearn.metrics import confusion_matrix, ConfusionMatrixDisplay\n",
    "# from pytorch_lightning.metrics.functional import accuracy, f1, auroc\n",
    "\n",
    "nltk.download('punkt_tab')\n",
    "warnings.filterwarnings(\"ignore\")\n",
    "stop_words = get_stop_words('en')\n",
    "\n",
    "device = torch.device(\"cuda\" if torch.cuda.is_available() else \"cpu\")\n",
    "\n",
    "# from pytorch_lightning import Trainer\n",
    "# from pytorch_lightning.loggers import TensorBoardLogger\n",
    "# import numpy as np\n",
    "# np.Inf = np.inf\n"
   ]
  },
  {
   "cell_type": "markdown",
   "metadata": {},
   "source": [
    "# EDA"
   ]
  },
  {
   "cell_type": "markdown",
   "metadata": {},
   "source": [
    "In this part of the analysis, I will prepare a initial data analysis. This section will include a study of the distribution of the target variable, calculate the number of missing data, clean up comments with punctuation marks, links, stopwords etc. In the end of this part I will tokenize text."
   ]
  },
  {
   "cell_type": "code",
   "execution_count": 12,
   "metadata": {},
   "outputs": [
    {
     "data": {
      "text/html": [
       "<div>\n",
       "<style scoped>\n",
       "    .dataframe tbody tr th:only-of-type {\n",
       "        vertical-align: middle;\n",
       "    }\n",
       "\n",
       "    .dataframe tbody tr th {\n",
       "        vertical-align: top;\n",
       "    }\n",
       "\n",
       "    .dataframe thead th {\n",
       "        text-align: right;\n",
       "    }\n",
       "</style>\n",
       "<table border=\"1\" class=\"dataframe\">\n",
       "  <thead>\n",
       "    <tr style=\"text-align: right;\">\n",
       "      <th></th>\n",
       "      <th>id</th>\n",
       "      <th>entity</th>\n",
       "      <th>sentiment</th>\n",
       "      <th>tweet</th>\n",
       "    </tr>\n",
       "  </thead>\n",
       "  <tbody>\n",
       "    <tr>\n",
       "      <th>0</th>\n",
       "      <td>2401</td>\n",
       "      <td>Borderlands</td>\n",
       "      <td>Positive</td>\n",
       "      <td>I am coming to the borders and I will kill you...</td>\n",
       "    </tr>\n",
       "    <tr>\n",
       "      <th>1</th>\n",
       "      <td>2401</td>\n",
       "      <td>Borderlands</td>\n",
       "      <td>Positive</td>\n",
       "      <td>im getting on borderlands and i will kill you ...</td>\n",
       "    </tr>\n",
       "    <tr>\n",
       "      <th>2</th>\n",
       "      <td>2401</td>\n",
       "      <td>Borderlands</td>\n",
       "      <td>Positive</td>\n",
       "      <td>im coming on borderlands and i will murder you...</td>\n",
       "    </tr>\n",
       "    <tr>\n",
       "      <th>3</th>\n",
       "      <td>2401</td>\n",
       "      <td>Borderlands</td>\n",
       "      <td>Positive</td>\n",
       "      <td>im getting on borderlands 2 and i will murder ...</td>\n",
       "    </tr>\n",
       "    <tr>\n",
       "      <th>4</th>\n",
       "      <td>2401</td>\n",
       "      <td>Borderlands</td>\n",
       "      <td>Positive</td>\n",
       "      <td>im getting into borderlands and i can murder y...</td>\n",
       "    </tr>\n",
       "  </tbody>\n",
       "</table>\n",
       "</div>"
      ],
      "text/plain": [
       "     id       entity sentiment  \\\n",
       "0  2401  Borderlands  Positive   \n",
       "1  2401  Borderlands  Positive   \n",
       "2  2401  Borderlands  Positive   \n",
       "3  2401  Borderlands  Positive   \n",
       "4  2401  Borderlands  Positive   \n",
       "\n",
       "                                               tweet  \n",
       "0  I am coming to the borders and I will kill you...  \n",
       "1  im getting on borderlands and i will kill you ...  \n",
       "2  im coming on borderlands and i will murder you...  \n",
       "3  im getting on borderlands 2 and i will murder ...  \n",
       "4  im getting into borderlands and i can murder y...  "
      ]
     },
     "execution_count": 12,
     "metadata": {},
     "output_type": "execute_result"
    }
   ],
   "source": [
    "path = kagglehub.dataset_download(\"jp797498e/twitter-entity-sentiment-analysis\")\n",
    "\n",
    "train = pd.read_csv(path + '\\\\twitter_training.csv')\n",
    "valid = pd.read_csv(path + '\\\\twitter_validation.csv')\n",
    "\n",
    "train.columns = ['id', 'entity', 'sentiment', 'tweet']\n",
    "valid.columns = ['id', 'entity', 'sentiment', 'tweet']\n",
    "\n",
    "train.head()"
   ]
  },
  {
   "cell_type": "code",
   "execution_count": 13,
   "metadata": {},
   "outputs": [
    {
     "data": {
      "text/plain": [
       "id             0\n",
       "entity         0\n",
       "sentiment      0\n",
       "tweet        686\n",
       "dtype: int64"
      ]
     },
     "execution_count": 13,
     "metadata": {},
     "output_type": "execute_result"
    }
   ],
   "source": [
    "# check number of nulls in each column\n",
    "train[['id', 'entity', 'sentiment', 'tweet']].isnull().sum()"
   ]
  },
  {
   "cell_type": "code",
   "execution_count": 14,
   "metadata": {},
   "outputs": [
    {
     "data": {
      "text/plain": [
       "id           0\n",
       "entity       0\n",
       "sentiment    0\n",
       "tweet        0\n",
       "dtype: int64"
      ]
     },
     "execution_count": 14,
     "metadata": {},
     "output_type": "execute_result"
    }
   ],
   "source": [
    "valid[['id', 'entity', 'sentiment', 'tweet']].isnull().sum()"
   ]
  },
  {
   "cell_type": "code",
   "execution_count": 15,
   "metadata": {},
   "outputs": [],
   "source": [
    "train.dropna(subset=['tweet'], inplace=True)"
   ]
  },
  {
   "cell_type": "code",
   "execution_count": 16,
   "metadata": {},
   "outputs": [],
   "source": [
    "def draw_plot(df, name):\n",
    "    \"\"\"\n",
    "    Print distribution plot of sentiment\n",
    "    \"\"\"\n",
    "    plt.figure(figsize=(8, 6))\n",
    "    colors = ['red', 'green', 'blue', 'orange']\n",
    "    df['sentiment'].value_counts().plot(kind='bar', color=colors)\n",
    "\n",
    "    plt.title(f'Distribution of sentiment ({name} set)')\n",
    "    plt.ylabel('Count')\n",
    "    plt.xlabel('Sentiment')\n",
    "    plt.show()"
   ]
  },
  {
   "cell_type": "code",
   "execution_count": 17,
   "metadata": {},
   "outputs": [
    {
     "data": {
      "image/png": "[encoded data removed]",
      "text/plain": [
       "<Figure size 800x600 with 1 Axes>"
      ]
     },
     "metadata": {},
     "output_type": "display_data"
    },
    {
     "data": {
      "image/png": "[encoded data removed]",
      "text/plain": [
       "<Figure size 800x600 with 1 Axes>"
      ]
     },
     "metadata": {},
     "output_type": "display_data"
    }
   ],
   "source": [
    "draw_plot(train, 'train')\n",
    "draw_plot(valid, 'val')"
   ]
  },
  {
   "cell_type": "code",
   "execution_count": 18,
   "metadata": {},
   "outputs": [],
   "source": [
    "def clean_text(text):\n",
    "    \"\"\"\n",
    "    Clean input text by lowercasing and removing punctuation\n",
    "    \"\"\"\n",
    "    # lower case\n",
    "    text = text.lower() \n",
    "    # remove links\n",
    "    text = re.compile(r\"https?://\\S+|www\\.\\S+\").sub(\"\", text)\n",
    "    # remove punctuations\n",
    "    table = str.maketrans('','',string.punctuation)\n",
    "    text = text.translate(table)\n",
    "    # remove unique char\n",
    "    text = re.sub(r'(?:^| )\\w(?:$| )', ' ',text).strip()\n",
    "    # contractions\n",
    "    text = \" \".join([contractions.fix(word) for word in text.split()])\n",
    "\n",
    "    replacements = {\n",
    "        r\"'s\\b\": \"\",\n",
    "        r\"\\s+\": \" \",\n",
    "    }\n",
    "\n",
    "    for replace, by in replacements.items():\n",
    "        text = re.sub(replace, by, text)\n",
    "\n",
    "    return text.strip()"
   ]
  },
  {
   "cell_type": "code",
   "execution_count": 19,
   "metadata": {},
   "outputs": [],
   "source": [
    "train['tweet_clean'] = train['tweet'].apply(lambda x: clean_text(x))\n",
    "valid['tweet_clean'] = valid['tweet'].apply(lambda x: clean_text(x))"
   ]
  },
  {
   "cell_type": "code",
   "execution_count": 20,
   "metadata": {},
   "outputs": [],
   "source": [
    "def remove_stopwords(text):\n",
    "    \"\"\"\n",
    "    Tokenize text and remove stopwords.\n",
    "    \"\"\"\n",
    "    text = text.apply(word_tokenize)\n",
    "    text = text.apply(lambda x: [word for word in x if word not in stop_words])\n",
    "    return text"
   ]
  },
  {
   "cell_type": "code",
   "execution_count": 21,
   "metadata": {},
   "outputs": [],
   "source": [
    "train['tweet_no_stopwords'] = remove_stopwords(train['tweet_clean'])\n",
    "train['tweet_no_stopwords'] = train['tweet_no_stopwords'].apply(lambda x: ' '.join(eval(str(x))))\n",
    "valid['tweet_no_stopwords'] = remove_stopwords(valid['tweet_clean'])\n",
    "valid['tweet_no_stopwords'] = valid['tweet_no_stopwords'].apply(lambda x: ' '.join(eval(str(x))))"
   ]
  },
  {
   "cell_type": "markdown",
   "metadata": {},
   "source": [
    "# Modelling"
   ]
  },
  {
   "cell_type": "markdown",
   "metadata": {},
   "source": [
    "In this part I will "
   ]
  },
  {
   "cell_type": "code",
   "execution_count": 12,
   "metadata": {},
   "outputs": [],
   "source": [
    "val, test = train_test_split(valid, test_size=0.33, random_state=42)\n",
    "\n",
    "X_train = train['tweet_no_stopwords']\n",
    "y_train = train['sentiment']\n",
    "\n",
    "X_val = val['tweet_no_stopwords']\n",
    "y_val = val['sentiment']\n",
    "\n",
    "X_test = test['tweet_no_stopwords']\n",
    "y_test = test['sentiment']"
   ]
  },
  {
   "cell_type": "code",
   "execution_count": 14,
   "metadata": {},
   "outputs": [],
   "source": [
    "class DataStructure:\n",
    "    def __init__(self,X,typedt,y_train=y_train,y_val=y_val,X_train=X_train,shuffle=True):\n",
    "        self.X = X\n",
    "        self.y_train = y_train\n",
    "        self.y_val = y_val\n",
    "        self.typedt = typedt\n",
    "        self.X_train = X_train\n",
    "        self.shuffle = shuffle\n",
    "\n",
    "    def encode_data(self):\n",
    "        label_encoder = LabelEncoder()\n",
    "        y_train = label_encoder.fit_transform(self.y_train)\n",
    "        y_val = label_encoder.transform(self.y_val)\n",
    "        if self.typedt == \"train\":\n",
    "            return y_train\n",
    "        else:\n",
    "            return y_val\n",
    "    \n",
    "    def get_tokenizer(self):\n",
    "        tokenizer = Tokenizer(num_words=10000, oov_token=\"<OOV>\")\n",
    "        tokenizer.fit_on_texts(self.X_train)\n",
    "        return tokenizer\n",
    "    \n",
    "    def tokenize_data(self):\n",
    "        X_seq = self.get_tokenizer().texts_to_sequences(self.X)\n",
    "        X_pad = pad_sequences(X_seq, maxlen=50, padding='post')\n",
    "        return X_pad\n",
    "    \n",
    "    def tensor_data(self):\n",
    "        dataset = TensorDataset(torch.tensor(self.tokenize_data(), dtype=torch.long), torch.tensor(self.encode_data(), dtype=torch.long))\n",
    "        dataloader = DataLoader(dataset, batch_size=64, shuffle=self.shuffle)\n",
    "        return dataloader\n"
   ]
  },
  {
   "cell_type": "code",
   "execution_count": 15,
   "metadata": {},
   "outputs": [],
   "source": [
    "structure = DataStructure(X_train,'train',shuffle=True)\n",
    "dataloader_train = structure.tensor_data()\n",
    "structure_val = DataStructure(X_val,'val',shuffle=False)\n",
    "dataloader_val = structure_val.tensor_data()"
   ]
  },
  {
   "cell_type": "code",
   "execution_count": null,
   "metadata": {},
   "outputs": [],
   "source": [
    "# class FeatureExtractor(nn.Module):\n",
    "#     def __init__(self):\n",
    "#         super().__init__()\n",
    "#         self.gru = nn.GRU(8, 64, num_layers=2, batch_first=True)\n",
    "#         self.fc = nn.Sequential(nn.ReLU(True),\n",
    "#                                 nn.Linear(64, 64), \n",
    "#                                 nn.ReLU(True))\n",
    "#     def forward(self, x):\n",
    "#         out, _ = self.gru(x)\n",
    "#         out = self.fc(out)\n",
    "#         return out"
   ]
  },
  {
   "cell_type": "code",
   "execution_count": 16,
   "metadata": {},
   "outputs": [],
   "source": [
    "class GRUModel(torch.nn.Module):\n",
    "    def __init__(self, hidden_dim, output_dim, vocab_size, embedding_dim):\n",
    "        super(GRUModel, self).__init__()\n",
    "        self.embedding = nn.Embedding(vocab_size, embedding_dim)\n",
    "        self.gru = nn.GRU(embedding_dim, hidden_dim, num_layers = 1, bidirectional = False, bias = True, batch_first=True)  \n",
    "        self.layers = nn.Sequential(\n",
    "                        nn.GELU(),\n",
    "                        nn.Linear(hidden_dim, output_dim))\n",
    "        \n",
    "    def forward(self, x):\n",
    "        embedded = self.embedding(x)\n",
    "        out, _ = self.gru(embedded) # return tuple not tensor\n",
    "        out = self.layers(out[:, -1, :])\n",
    "        return out\n",
    "        "
   ]
  },
  {
   "cell_type": "code",
   "execution_count": null,
   "metadata": {},
   "outputs": [],
   "source": [
    "# # Definindo o modelo GRU\n",
    "# class GRUClassifier(nn.Module):\n",
    "#     def __init__(self, input_dim, hidden_dim, output_dim, vocab_size, embedding_dim):\n",
    "#         super(GRUClassifier, self).__init__()\n",
    "#         self.embedding = nn.Embedding(vocab_size, embedding_dim)\n",
    "#         self.gru_forward = nn.GRU(embedding_dim, hidden_dim, num_layers = 1, bidirectional = False, bias = True, batch_first=True)\n",
    "#         self.gru_backward = nn.GRU(hidden_dim, hidden_dim, num_layers = 1, bidirectional = False, bias = True, batch_first=True)\n",
    "#         # self.fc = nn.Linear(hidden_dim, output_dim)\n",
    "#         self.gelu = nn.GELU()\n",
    "#         # self.fc = nn.Linear(hidden_dim, output_dim)\n",
    "\n",
    "#     def forward(self, x):\n",
    "#         embedded = self.embedding(x)\n",
    "#         x, _ = self.gru_forward(embedded)\n",
    "#         x = self.gelu(x[:, -1, :])\n",
    "#         x = torch.flip(x, dims=[1])\n",
    "#         x, _ = self.gru_backward(x)\n",
    "#         x = torch.flip(x, dims=[1])\n",
    "#         out = self.gelu(x)\n",
    "#         #out = out[:, -1, :]  # Pegando a última saída da GRU\n",
    "#         #out = self.fc(out)\n",
    "#         return out"
   ]
  },
  {
   "cell_type": "code",
   "execution_count": null,
   "metadata": {},
   "outputs": [],
   "source": [
    "# class BGRUModel(nn.Module):\n",
    "#     def __init__(self, input_size, hidden_size, num_layers, num_classes, vocab_size, embedding_dim):\n",
    "#         super(BGRUModel, self).__init__()\n",
    "#         self.embedding = nn.Embedding(vocab_size, embedding_dim)\n",
    "#         self.bgru = nn.GRU(embedding_dim, hidden_size, num_layers, bidirectional=True)\n",
    "#         self.fc = nn.Linear(hidden_size * 2, num_classes)\n",
    "\n",
    "#     def forward(self, x):\n",
    "#         out, _ = self.bgru(x)\n",
    "#         out = self.fc(out[:, -1, :])  \n",
    "#         return out"
   ]
  },
  {
   "cell_type": "code",
   "execution_count": null,
   "metadata": {},
   "outputs": [],
   "source": [
    "# class GRUClassifier(nn.Module):\n",
    "#     def __init__(self, input_dim, hidden_dim, output_dim, vocab_size, embedding_dim):\n",
    "#         super(GRUClassifier, self).__init__()\n",
    "#         self.embedding = nn.Embedding(vocab_size, embedding_dim)\n",
    "#         self.gru = nn.GRU(embedding_dim, hidden_dim, batch_first=True)\n",
    "#         self.fc = nn.Linear(hidden_dim, output_dim)\n",
    "\n",
    "#     def forward(self, x):\n",
    "#         embedded = self.embedding(x)\n",
    "#         gru_out, _ = self.gru(embedded)\n",
    "#         gru_out = gru_out[:, -1, :]  # Pegando a última saída da GRU\n",
    "#         out = self.fc(gru_out)\n",
    "#         return out"
   ]
  },
  {
   "cell_type": "code",
   "execution_count": 17,
   "metadata": {},
   "outputs": [],
   "source": [
    "vocab_size = 10000\n",
    "embedding_dim = 64\n",
    "hidden_dim = 128\n",
    "output_dim = 4"
   ]
  },
  {
   "cell_type": "code",
   "execution_count": 18,
   "metadata": {},
   "outputs": [
    {
     "data": {
      "text/plain": [
       "GRUModel(\n",
       "  (embedding): Embedding(10000, 64)\n",
       "  (gru): GRU(64, 128, batch_first=True)\n",
       "  (layers): Sequential(\n",
       "    (0): GELU(approximate='none')\n",
       "    (1): Linear(in_features=128, out_features=4, bias=True)\n",
       "  )\n",
       ")"
      ]
     },
     "execution_count": 18,
     "metadata": {},
     "output_type": "execute_result"
    }
   ],
   "source": [
    "model_gru = GRUModel(hidden_dim=hidden_dim, output_dim=output_dim, vocab_size=vocab_size, embedding_dim=embedding_dim)\n",
    "model_gru.to(device)"
   ]
  },
  {
   "cell_type": "code",
   "execution_count": null,
   "metadata": {},
   "outputs": [],
   "source": [
    "# class LightningTransformer(L.LightningModule):\n",
    "#     def __init__(self, vocab_size):\n",
    "#         super().__init__()\n",
    "#         self.model = Transformer(vocab_size=vocab_size)\n",
    "\n",
    "#     def forward(self, inputs, target):\n",
    "#         return self.model(inputs, target)\n",
    "\n",
    "#     def training_step(self, batch, batch_idx):\n",
    "#         inputs, target = batch\n",
    "#         output = self(inputs, target)\n",
    "#         loss = torch.nn.functional.nll_loss(output, target.view(-1))\n",
    "#         return loss\n",
    "\n",
    "#     def configure_optimizers(self):\n",
    "#         return torch.optim.SGD(self.model.parameters(), lr=0.1)"
   ]
  },
  {
   "cell_type": "code",
   "execution_count": 34,
   "metadata": {},
   "outputs": [],
   "source": [
    "class TrainModel(pl.LightningModule):\n",
    "  def __init__(self, model): \n",
    "    super(TrainModel,self).__init__()\n",
    "    self.model = model\n",
    "    self.criterion = nn.CrossEntropyLoss()\n",
    "    self.train_acc = tm.Accuracy(task='multiclass', num_classes=4)\n",
    "    self.val_acc = tm.Accuracy(task='multiclass', num_classes=4)\n",
    "    self.train_recall = tm.Recall(task='multiclass', num_classes=4)\n",
    "    self.val_recall = tm.Recall(task='multiclass', num_classes=4)\n",
    "    self.train_precision = tm.Precision(task='multiclass', num_classes=4)\n",
    "    self.val_precision = tm.Precision(task='multiclass', num_classes=4)\n",
    "    self.train_f1 = tm.F1Score(task='multiclass', num_classes=4)\n",
    "    self.val_f1 = tm.F1Score(task='multiclass', num_classes=4)\n",
    "   \n",
    "    self.val_preds = []\n",
    "\n",
    "  def forward(self, x):\n",
    "        return self.model(x) #inputs\n",
    "  \n",
    "  def training_step(self, batch, batch_idx):\n",
    "        inputs, labels = batch\n",
    "        outputs = self.forward(inputs)\n",
    "        loss = self.criterion(outputs, labels)\n",
    "\n",
    "        self.train_acc(torch.argmax(outputs, dim=1), labels)\n",
    "        self.train_recall(torch.argmax(outputs, dim=1), labels)\n",
    "        self.train_precision(torch.argmax(outputs, dim=1), labels)\n",
    "        self.train_f1(torch.argmax(outputs, dim=1), labels)\n",
    "\n",
    "        self.log('train_loss', loss.item(), prog_bar=True, logger=True)\n",
    "        self.log('train_acc', self.train_acc, prog_bar=True, logger=True)\n",
    "        self.log('train_recall', self.train_recall, prog_bar=True, logger=True)\n",
    "        self.log('train_precision', self.train_precision, prog_bar=True, logger=True)\n",
    "        self.log('train_f1', self.train_f1, prog_bar=True, logger=True)\n",
    "        \n",
    "        return loss\n",
    "\n",
    "  def validation_step(self, batch, batch_idx):\n",
    "        inputs, labels = batch\n",
    "        outputs = self.forward(inputs)\n",
    "        loss = self.criterion(outputs, labels)\n",
    "\n",
    "        self.val_acc(torch.argmax(outputs, dim=1), labels)\n",
    "        self.val_recall(torch.argmax(outputs, dim=1), labels)\n",
    "        self.val_precision(torch.argmax(outputs, dim=1), labels)\n",
    "        self.val_f1(torch.argmax(outputs, dim=1), labels)\n",
    "        \n",
    "        self.log('val_loss', loss.item(), prog_bar=True, logger=True)\n",
    "        self.log('val_acc', self.val_acc, prog_bar=True, logger=True)\n",
    "        self.log('val_recall', self.val_recall, prog_bar=True, logger=True)\n",
    "        self.log('val_precision', self.val_precision, prog_bar=True, logger=True)\n",
    "        self.log('val_f1', self.val_f1, prog_bar=True, logger=True)\n",
    "        \n",
    "        pred_labels = torch.argmax(outputs, dim=1)\n",
    "        self.val_preds.append(pred_labels)\n",
    "\n",
    "  def get_test_preds(self):\n",
    "        return torch.concat(self.val_preds)\n",
    "  \n",
    "#   def test_step(self, batch, batch_idx):\n",
    "#         loss = self(batch).sum()\n",
    "#         self.log(\"test_loss\", loss)\n",
    "#   def test_step(self, batch, batch_idx):\n",
    "#         self.test_preds.append(pred_labels)\n",
    "#         return self.validation_step(batch, batch_idx)\n",
    "  \n",
    "#   def predict_step(self, batch):\n",
    "#         inputs, target = batch\n",
    "#         return self.model(inputs, target)\n",
    "#   def predict_step(self, batch, batch_idx, dataloader_idx=0):\n",
    "#         return self(batch)\n",
    "\n",
    "#   def training_epoch_end(self, outputs):\n",
    "#       labels = []\n",
    "#       predictions = []\n",
    "#       for output in outputs:\n",
    "#             for out_labels in output[\"labels\"].detach().cpu():\n",
    "#                   labels.append(out_labels)\n",
    "#             for out_predictions in output[\"predictions\"].detach().cpu():\n",
    "#                   predictions.append(out_predictions)\n",
    "\n",
    "#       labels = torch.stack(labels).int()\n",
    "#       predictions = torch.stack(predictions)\n",
    "\n",
    "#       for i, name in enumerate(LABEL_COLUMNS):\n",
    "#             class_roc_auc = auroc(predictions[:, i], labels[:, i])\n",
    "#             self.logger.experiment.add_scalar(f\"{name}_roc_auc/Train\", class_r)\n",
    "                                              \n",
    "\n",
    "  def configure_optimizers(self):\n",
    "        optimizer = torch.optim.Adam(self.model.parameters(), lr=1e-3)\n",
    "        return optimizer"
   ]
  },
  {
   "cell_type": "code",
   "execution_count": null,
   "metadata": {},
   "outputs": [
    {
     "name": "stderr",
     "output_type": "stream",
     "text": [
      "GPU available: False, used: False\n",
      "TPU available: False, using: 0 TPU cores\n"
     ]
    },
    {
     "name": "stderr",
     "output_type": "stream",
     "text": [
      "IPU available: False, using: 0 IPUs\n",
      "HPU available: False, using: 0 HPUs\n",
      "\n",
      "  | Name      | Type             | Params\n",
      "-----------------------------------------------\n",
      "0 | model     | GRUModel         | 715 K \n",
      "1 | criterion | CrossEntropyLoss | 0     \n",
      "-----------------------------------------------\n",
      "715 K     Trainable params\n",
      "0         Non-trainable params\n",
      "715 K     Total params\n",
      "2.860     Total estimated model params size (MB)\n"
     ]
    },
    {
     "name": "stdout",
     "output_type": "stream",
     "text": [
      "Epoch 2: 100%|██████████| 1157/1157 [04:03<00:00,  4.76it/s, loss=0.11, v_num=17, train_loss=0.352]   "
     ]
    },
    {
     "name": "stderr",
     "output_type": "stream",
     "text": [
      "`Trainer.fit` stopped: `max_epochs=3` reached.\n"
     ]
    },
    {
     "name": "stdout",
     "output_type": "stream",
     "text": [
      "Epoch 2: 100%|██████████| 1157/1157 [04:03<00:00,  4.76it/s, loss=0.11, v_num=17, train_loss=0.352]\n",
      "Testing DataLoader 0: 100%|██████████| 16/16 [00:02<00:00,  6.62it/s]\n"
     ]
    },
    {
     "data": {
      "text/html": [
       "<pre style=\"white-space:pre;overflow-x:auto;line-height:normal;font-family:Menlo,'DejaVu Sans Mono',consolas,'Courier New',monospace\">┏━━━━━━━━━━━━━━━━━━━━━━━━━━━┳━━━━━━━━━━━━━━━━━━━━━━━━━━━┓\n",
       "┃<span style=\"font-weight: bold\">   Runningstage.testing    </span>┃<span style=\"font-weight: bold\">                           </span>┃\n",
       "┃<span style=\"font-weight: bold\">          metric           </span>┃<span style=\"font-weight: bold\">       DataLoader 0        </span>┃\n",
       "┡━━━━━━━━━━━━━━━━━━━━━━━━━━━╇━━━━━━━━━━━━━━━━━━━━━━━━━━━┩\n",
       "│<span style=\"color: #008080; text-decoration-color: #008080\">         val_loss          </span>│<span style=\"color: #800080; text-decoration-color: #800080\">    0.2636549472808838     </span>│\n",
       "└───────────────────────────┴───────────────────────────┘\n",
       "</pre>\n"
      ],
      "text/plain": [
       "┏━━━━━━━━━━━━━━━━━━━━━━━━━━━┳━━━━━━━━━━━━━━━━━━━━━━━━━━━┓\n",
       "┃\u001b[1m \u001b[0m\u001b[1m  Runningstage.testing   \u001b[0m\u001b[1m \u001b[0m┃\u001b[1m                           \u001b[0m┃\n",
       "┃\u001b[1m \u001b[0m\u001b[1m         metric          \u001b[0m\u001b[1m \u001b[0m┃\u001b[1m \u001b[0m\u001b[1m      DataLoader 0       \u001b[0m\u001b[1m \u001b[0m┃\n",
       "┡━━━━━━━━━━━━━━━━━━━━━━━━━━━╇━━━━━━━━━━━━━━━━━━━━━━━━━━━┩\n",
       "│\u001b[36m \u001b[0m\u001b[36m        val_loss         \u001b[0m\u001b[36m \u001b[0m│\u001b[35m \u001b[0m\u001b[35m   0.2636549472808838    \u001b[0m\u001b[35m \u001b[0m│\n",
       "└───────────────────────────┴───────────────────────────┘\n"
      ]
     },
     "metadata": {},
     "output_type": "display_data"
    },
    {
     "data": {
      "text/plain": [
       "[{'val_loss': 0.2636549472808838}]"
      ]
     },
     "execution_count": 26,
     "metadata": {},
     "output_type": "execute_result"
    }
   ],
   "source": [
    "# # from pytorch_lightning import Trainer\n",
    "# # from pytorch_lightning.loggers import TensorBoardLogger\n",
    "# # import numpy as np\n",
    "# np.Inf = np.inf\n",
    "\n",
    "# # checkpoint_callback = ModelCheckpoint(\n",
    "# #    dirpath=\"checkpoints\",\n",
    "# #    monitor=\"val_loss\",\n",
    "# #    filename=\"cifar10-{epoch:02d}-{val_loss:.2f}-{val_acc:.2f}\",\n",
    "# #    save_top_k=-1,\n",
    "# #    mode=\"min\",\n",
    "# # )\n",
    "\n",
    "# logger = TensorBoardLogger(save_dir=\"lightning_logs\", name=\"sentiment\")\n",
    "\n",
    "# early_stop_callback = EarlyStopping(\n",
    "#     monitor = \"train_loss\", \n",
    "#     min_delta = 0.00, \n",
    "#     patience = 10, \n",
    "#     verbose = False, \n",
    "#     mode = \"min\",\n",
    "# )\n",
    "\n",
    "\n",
    "# model = TrainModel(model_gru) \n",
    "# # Initialize the Trainer\n",
    "# trainer = pl.Trainer(\n",
    "#    max_epochs=3,\n",
    "#    callbacks=[checkpoint_callback, early_stop_callback],\n",
    "#    logger=logger,\n",
    "#    accelerator=\"gpu\" if torch.cuda.is_available() else \"cpu\",\n",
    "#    devices=\"auto\",\n",
    "# )\n",
    "\n",
    "# trainer.fit(model = model, train_dataloaders = dataloader_train)\n",
    "# trainer.test(model, dataloaders = dataloader_val)"
   ]
  },
  {
   "cell_type": "code",
   "execution_count": null,
   "metadata": {},
   "outputs": [
    {
     "name": "stderr",
     "output_type": "stream",
     "text": [
      "GPU available: False, used: False\n",
      "TPU available: False, using: 0 TPU cores\n",
      "IPU available: False, using: 0 IPUs\n",
      "HPU available: False, using: 0 HPUs\n",
      "\n",
      "  | Name            | Type                | Params\n",
      "--------------------------------------------------------\n",
      "0 | model           | GRUModel            | 715 K \n",
      "1 | criterion       | CrossEntropyLoss    | 0     \n",
      "2 | train_acc       | MulticlassAccuracy  | 0     \n",
      "3 | val_acc         | MulticlassAccuracy  | 0     \n",
      "4 | train_recall    | MulticlassRecall    | 0     \n",
      "5 | val_recall      | MulticlassRecall    | 0     \n",
      "6 | train_precision | MulticlassPrecision | 0     \n",
      "7 | val_precision   | MulticlassPrecision | 0     \n",
      "--------------------------------------------------------\n",
      "715 K     Trainable params\n",
      "0         Non-trainable params\n",
      "715 K     Total params\n",
      "2.860     Total estimated model params size (MB)\n"
     ]
    },
    {
     "name": "stdout",
     "output_type": "stream",
     "text": [
      "Epoch 0: 100%|██████████| 1157/1157 [00:50<00:00, 22.72it/s, loss=0.118, v_num=20, train_loss=0.343, train_acc=0.818, train_recall=0.818, train_precision=0.818]   "
     ]
    },
    {
     "name": "stderr",
     "output_type": "stream",
     "text": [
      "`Trainer.fit` stopped: `max_epochs=1` reached.\n"
     ]
    },
    {
     "name": "stdout",
     "output_type": "stream",
     "text": [
      "Epoch 0: 100%|██████████| 1157/1157 [00:50<00:00, 22.72it/s, loss=0.118, v_num=20, train_loss=0.343, train_acc=0.818, train_recall=0.818, train_precision=0.818]\n",
      "Validation DataLoader 0: 100%|██████████| 16/16 [00:00<00:00, 70.19it/s]\n"
     ]
    },
    {
     "data": {
      "text/html": [
       "<pre style=\"white-space:pre;overflow-x:auto;line-height:normal;font-family:Menlo,'DejaVu Sans Mono',consolas,'Courier New',monospace\">┏━━━━━━━━━━━━━━━━━━━━━━━━━━━┳━━━━━━━━━━━━━━━━━━━━━━━━━━━┓\n",
       "┃<span style=\"font-weight: bold\">  Runningstage.validating  </span>┃<span style=\"font-weight: bold\">                           </span>┃\n",
       "┃<span style=\"font-weight: bold\">          metric           </span>┃<span style=\"font-weight: bold\">       DataLoader 0        </span>┃\n",
       "┡━━━━━━━━━━━━━━━━━━━━━━━━━━━╇━━━━━━━━━━━━━━━━━━━━━━━━━━━┩\n",
       "│<span style=\"color: #008080; text-decoration-color: #008080\">          val_acc          </span>│<span style=\"color: #800080; text-decoration-color: #800080\">    0.9399399161338806     </span>│\n",
       "│<span style=\"color: #008080; text-decoration-color: #008080\">         val_loss          </span>│<span style=\"color: #800080; text-decoration-color: #800080\">    0.2737720012664795     </span>│\n",
       "│<span style=\"color: #008080; text-decoration-color: #008080\">       val_precision       </span>│<span style=\"color: #800080; text-decoration-color: #800080\">    0.9399399161338806     </span>│\n",
       "│<span style=\"color: #008080; text-decoration-color: #008080\">        val_recall         </span>│<span style=\"color: #800080; text-decoration-color: #800080\">    0.9399399161338806     </span>│\n",
       "└───────────────────────────┴───────────────────────────┘\n",
       "</pre>\n"
      ],
      "text/plain": [
       "┏━━━━━━━━━━━━━━━━━━━━━━━━━━━┳━━━━━━━━━━━━━━━━━━━━━━━━━━━┓\n",
       "┃\u001b[1m \u001b[0m\u001b[1m Runningstage.validating \u001b[0m\u001b[1m \u001b[0m┃\u001b[1m                           \u001b[0m┃\n",
       "┃\u001b[1m \u001b[0m\u001b[1m         metric          \u001b[0m\u001b[1m \u001b[0m┃\u001b[1m \u001b[0m\u001b[1m      DataLoader 0       \u001b[0m\u001b[1m \u001b[0m┃\n",
       "┡━━━━━━━━━━━━━━━━━━━━━━━━━━━╇━━━━━━━━━━━━━━━━━━━━━━━━━━━┩\n",
       "│\u001b[36m \u001b[0m\u001b[36m         val_acc         \u001b[0m\u001b[36m \u001b[0m│\u001b[35m \u001b[0m\u001b[35m   0.9399399161338806    \u001b[0m\u001b[35m \u001b[0m│\n",
       "│\u001b[36m \u001b[0m\u001b[36m        val_loss         \u001b[0m\u001b[36m \u001b[0m│\u001b[35m \u001b[0m\u001b[35m   0.2737720012664795    \u001b[0m\u001b[35m \u001b[0m│\n",
       "│\u001b[36m \u001b[0m\u001b[36m      val_precision      \u001b[0m\u001b[36m \u001b[0m│\u001b[35m \u001b[0m\u001b[35m   0.9399399161338806    \u001b[0m\u001b[35m \u001b[0m│\n",
       "│\u001b[36m \u001b[0m\u001b[36m       val_recall        \u001b[0m\u001b[36m \u001b[0m│\u001b[35m \u001b[0m\u001b[35m   0.9399399161338806    \u001b[0m\u001b[35m \u001b[0m│\n",
       "└───────────────────────────┴───────────────────────────┘\n"
      ]
     },
     "metadata": {},
     "output_type": "display_data"
    },
    {
     "data": {
      "text/plain": [
       "[{'val_loss': 0.2737720012664795,\n",
       "  'val_acc': 0.9399399161338806,\n",
       "  'val_recall': 0.9399399161338806,\n",
       "  'val_precision': 0.9399399161338806}]"
      ]
     },
     "execution_count": 36,
     "metadata": {},
     "output_type": "execute_result"
    }
   ],
   "source": [
    "# from pytorch_lightning import Trainer\n",
    "# from pytorch_lightning.loggers import TensorBoardLogger\n",
    "# import numpy as np\n",
    "np.Inf = np.inf\n",
    "\n",
    "early_stop_callback = EarlyStopping(\n",
    "    monitor = \"val_loss\", \n",
    "    min_delta = 0.00, \n",
    "    patience = 10, \n",
    "    verbose = False, \n",
    "    mode = \"min\",\n",
    ")\n",
    "\n",
    "# checkpoint_callback = ModelCheckpoint(save_top_k = 1, monitor = \"val_loss\",\n",
    "#                                       dirpath = './best_model', filename='best',\n",
    "#                                       save_last=True\n",
    "#                                       )\n",
    "\n",
    "\n",
    "# checkpoint_callback = ModelCheckpoint(dirpath=\"checkpoints\", # where the ckpt will be saved\n",
    "#                                       filename=\"best-checkpoint\", # the name of the best ckpt\n",
    "#                                       save_top_k=1, # save only the best ckpt\n",
    "#                                       verbose=True,\n",
    "#                                       monitor=\"val_loss\", # ckpt will be save according to the validation loss that you need to calculate on the validation step when you train your model\n",
    "#                                       mode=\"min\" # validation loos need to be min\n",
    "#                                       ) \n",
    "\n",
    "# checkpoint_callback = ModelCheckpoint(\n",
    "#                     dirpath=\"checkpoints\", filename=\"best-checkpoint\",\n",
    "#                     save_top_k=1, verbose=True, monitor=\"val_loss\", mode=\"min\")\n",
    "\n",
    "# checkpoint_callback = ModelCheckpoint(dirpath=\"checkpoints\", # where the ckpt will be saved\n",
    "#                                       filename=\"best-checkpoint\", # the name of the best ckpt\n",
    "#                                       save_top_k=1, # save only the best ckpt\n",
    "#                                       verbose=True,\n",
    "#                                       monitor=\"Validation loss\", # ckpt will be save according to the validation loss that you need to calculate on the validation step when you train your model\n",
    "#                                       mode=\"min\" # validation loos need to be min\n",
    "#                                       ) \n",
    "\n",
    "logger = TensorBoardLogger(\"lightning_logs\", name=\"sentiment\")\n",
    "# checkpoint_callback = ModelCheckpoint(\n",
    "#         monitor='val_loss',\n",
    "#         dirpath='.\\lightning_logs',\n",
    "#         filename='sample-mnist-epoch{epoch:02d}-val_loss{val/loss:.2f}',\n",
    "#         auto_insert_metric_name=False\n",
    "#  )\n",
    "# filepath=\"./lightning_logs/weights-improvement-{epoch:02d}-{val_accuracy:.2f}.ckpt\"\n",
    "# checkpoint_callback = pl.callbacks.ModelCheckpoint(filepath, monitor='val_loss', verbose=1, mode='min') #, save_best_only=True\n",
    "\n",
    "\n",
    "# checkpoint_callback = pl.callbacks.ModelCheckpoint(\n",
    "#     save_top_k=10,\n",
    "#     monitor=\"val_loss\",\n",
    "#     mode=\"min\",\n",
    "#     dirpath='./lightning_logs',\n",
    "#     filename=\"sample-mnist-{epoch:02d}-{val_loss:.2f}\",\n",
    "# )\n",
    "\n",
    "model = TrainModel(model_gru) \n",
    "trainer = pl.Trainer(max_epochs = 1, accelerator = 'cpu',\n",
    "                     logger=logger,\n",
    "                     #callbacks=[early_stop_callback, checkpoint_callback], \n",
    "                    #  default_root_dir = './lightning_logs',\n",
    "                     callbacks = [early_stop_callback], # [early_stop_callback], # , checkpoint_callback\n",
    "                     val_check_interval = len(dataloader_train)) \n",
    "\n",
    "trainer.fit(model = model, train_dataloaders = dataloader_train)\n",
    "trainer.validate(model, dataloaders = dataloader_val)"
   ]
  },
  {
   "cell_type": "code",
   "execution_count": 43,
   "metadata": {},
   "outputs": [
    {
     "data": {
      "text/html": [
       "<div>\n",
       "<style scoped>\n",
       "    .dataframe tbody tr th:only-of-type {\n",
       "        vertical-align: middle;\n",
       "    }\n",
       "\n",
       "    .dataframe tbody tr th {\n",
       "        vertical-align: top;\n",
       "    }\n",
       "\n",
       "    .dataframe thead th {\n",
       "        text-align: right;\n",
       "    }\n",
       "</style>\n",
       "<table border=\"1\" class=\"dataframe\">\n",
       "  <thead>\n",
       "    <tr style=\"text-align: right;\">\n",
       "      <th></th>\n",
       "      <th>Id</th>\n",
       "      <th>Label</th>\n",
       "      <th>Label_encode</th>\n",
       "      <th>Predicted</th>\n",
       "    </tr>\n",
       "  </thead>\n",
       "  <tbody>\n",
       "    <tr>\n",
       "      <th>0</th>\n",
       "      <td>1</td>\n",
       "      <td>Neutral</td>\n",
       "      <td>2</td>\n",
       "      <td>2</td>\n",
       "    </tr>\n",
       "    <tr>\n",
       "      <th>1</th>\n",
       "      <td>2</td>\n",
       "      <td>Negative</td>\n",
       "      <td>1</td>\n",
       "      <td>1</td>\n",
       "    </tr>\n",
       "    <tr>\n",
       "      <th>2</th>\n",
       "      <td>3</td>\n",
       "      <td>Negative</td>\n",
       "      <td>1</td>\n",
       "      <td>1</td>\n",
       "    </tr>\n",
       "    <tr>\n",
       "      <th>3</th>\n",
       "      <td>4</td>\n",
       "      <td>Neutral</td>\n",
       "      <td>2</td>\n",
       "      <td>2</td>\n",
       "    </tr>\n",
       "    <tr>\n",
       "      <th>4</th>\n",
       "      <td>5</td>\n",
       "      <td>Negative</td>\n",
       "      <td>1</td>\n",
       "      <td>1</td>\n",
       "    </tr>\n",
       "  </tbody>\n",
       "</table>\n",
       "</div>"
      ],
      "text/plain": [
       "   Id     Label  Label_encode  Predicted\n",
       "0   1   Neutral             2          2\n",
       "1   2  Negative             1          1\n",
       "2   3  Negative             1          1\n",
       "3   4   Neutral             2          2\n",
       "4   5  Negative             1          1"
      ]
     },
     "execution_count": 43,
     "metadata": {},
     "output_type": "execute_result"
    }
   ],
   "source": [
    "y_true_val = structure_val.encode_data()\n",
    "test_preds = model.get_test_preds().detach().cpu().numpy()\n",
    "pred_val = pd.DataFrame({'Id': list(range(1,len(val)+1)),\n",
    "                         'Label': y_val,  \n",
    "                         'Label_encode': y_true_val,\n",
    "                         'Predicted': test_preds})\n",
    "pred_val.head()"
   ]
  },
  {
   "cell_type": "code",
   "execution_count": null,
   "metadata": {},
   "outputs": [
    {
     "data": {
      "image/png": "[encoded data removed]",
      "text/plain": [
       "<Figure size 640x480 with 2 Axes>"
      ]
     },
     "metadata": {},
     "output_type": "display_data"
    }
   ],
   "source": [
    "cm = confusion_matrix(y_true_val, test_preds)\n",
    "disp = ConfusionMatrixDisplay(confusion_matrix=cm, display_labels = y_val.unique())\n",
    "disp.plot(cmap=plt.cm.Blues)\n",
    "plt.title('Confusion matrix')\n",
    "plt.show()"
   ]
  },
  {
   "cell_type": "code",
   "execution_count": 52,
   "metadata": {},
   "outputs": [
    {
     "ename": "SyntaxError",
     "evalue": "leading zeros in decimal integer literals are not permitted; use an 0o prefix for octal integers (3946219620.py, line 1)",
     "output_type": "error",
     "traceback": [
      "\u001b[1;36m  Cell \u001b[1;32mIn[52], line 1\u001b[1;36m\u001b[0m\n\u001b[1;33m    https://www.kdnuggets.com/2020/03/tensorflow-keras-tokenization-text-data-prep.html\u001b[0m\n\u001b[1;37m                                   ^\u001b[0m\n\u001b[1;31mSyntaxError\u001b[0m\u001b[1;31m:\u001b[0m leading zeros in decimal integer literals are not permitted; use an 0o prefix for octal integers\n"
     ]
    }
   ],
   "source": [
    "https://www.kdnuggets.com/2020/03/tensorflow-keras-tokenization-text-data-prep.html\n",
    "https://www.kaggle.com/code/jvrco22/twitter-sentiment-analysis-96-val-acc#Models\n",
    "\n",
    "https://www.reddit.com/r/learnpython/comments/fayicq/vscode_the_term_conda_is_not_recognized_as_the/?rdt=49293\n"
   ]
  }
 ],
 "metadata": {
  "kernelspec": {
   "display_name": "sentiment",
   "language": "python",
   "name": "python3"
  },
  "language_info": {
   "codemirror_mode": {
    "name": "ipython",
    "version": 3
   },
   "file_extension": ".py",
   "mimetype": "text/x-python",
   "name": "python",
   "nbconvert_exporter": "python",
   "pygments_lexer": "ipython3",
   "version": "3.11.11"
  }
 },
 "nbformat": 4,
 "nbformat_minor": 2
}
